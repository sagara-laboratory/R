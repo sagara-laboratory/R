{
 "cells": [
  {
   "cell_type": "code",
   "execution_count": 1,
   "id": "1b442b13",
   "metadata": {},
   "outputs": [],
   "source": [
    "DF <- read.table(\"sample-StaffOvertime.csv\",\n",
    "               sep = \",\",\n",
    "               header = TRUE,\n",
    "               stringsAsFactors = FALSE) "
   ]
  },
  {
   "cell_type": "code",
   "execution_count": 2,
   "id": "de8bc6f7",
   "metadata": {},
   "outputs": [
    {
     "data": {
      "text/plain": [
       "$Admin\n",
       "   Min. 1st Qu.  Median    Mean 3rd Qu.    Max. \n",
       "   1.20   10.50   16.40   16.94   22.40   40.40 \n",
       "\n",
       "$IT\n",
       "   Min. 1st Qu.  Median    Mean 3rd Qu.    Max. \n",
       "   6.40   23.48   30.00   30.03   36.50   53.70 \n",
       "\n",
       "$Sales\n",
       "   Min. 1st Qu.  Median    Mean 3rd Qu.    Max. \n",
       "   7.30   23.52   28.35   28.72   33.88   49.10 \n"
      ]
     },
     "metadata": {},
     "output_type": "display_data"
    }
   ],
   "source": [
    "tapply(DF$overtime, DF$section, summary)"
   ]
  },
  {
   "cell_type": "code",
   "execution_count": 3,
   "id": "860132ab",
   "metadata": {
    "scrolled": false
   },
   "outputs": [
    {
     "data": {
      "image/png": "[encoded data removed]",
      "text/plain": [
       "plot without title"
      ]
     },
     "metadata": {},
     "output_type": "display_data"
    }
   ],
   "source": [
    "boxplot(overtime ~ section, data=DF, col=\"green\")"
   ]
  },
  {
   "cell_type": "code",
   "execution_count": 4,
   "id": "2ed14c28",
   "metadata": {},
   "outputs": [
    {
     "data": {
      "text/plain": [
       "\n",
       "Call:\n",
       "lm(formula = overtime ~ section, data = DF)\n",
       "\n",
       "Coefficients:\n",
       " (Intercept)     sectionIT  sectionSales  \n",
       "       16.94         13.09         11.77  \n"
      ]
     },
     "metadata": {},
     "output_type": "display_data"
    }
   ],
   "source": [
    "lm( overtime ~ section, data=DF)"
   ]
  },
  {
   "cell_type": "code",
   "execution_count": 5,
   "id": "c3ae0eb0",
   "metadata": {},
   "outputs": [
    {
     "data": {
      "text/plain": [
       "\n",
       "Call:\n",
       "lm(formula = overtime ~ section, data = DF)\n",
       "\n",
       "Residuals:\n",
       "     Min       1Q   Median       3Q      Max \n",
       "-23.6317  -6.1416  -0.4163   5.9584  23.6683 \n",
       "\n",
       "Coefficients:\n",
       "             Estimate Std. Error t value Pr(>|t|)    \n",
       "(Intercept)   16.9416     0.9219  18.377   <2e-16 ***\n",
       "sectionIT     13.0901     1.2511  10.463   <2e-16 ***\n",
       "sectionSales  11.7748     1.2943   9.097   <2e-16 ***\n",
       "---\n",
       "Signif. codes:  0 '***' 0.001 '**' 0.01 '*' 0.05 '.' 0.1 ' ' 1\n",
       "\n",
       "Residual standard error: 9.265 on 322 degrees of freedom\n",
       "Multiple R-squared:  0.2835,\tAdjusted R-squared:  0.2791 \n",
       "F-statistic: 63.71 on 2 and 322 DF,  p-value: < 2.2e-16\n"
      ]
     },
     "metadata": {},
     "output_type": "display_data"
    }
   ],
   "source": [
    "LM2 <- lm( overtime ~ section, data=DF)\n",
    "summary(LM2)"
   ]
  },
  {
   "cell_type": "code",
   "execution_count": 6,
   "id": "e5158901",
   "metadata": {},
   "outputs": [
    {
     "data": {
      "text/plain": [
       "             Df Sum Sq Mean Sq F value Pr(>F)    \n",
       "section       2  10937    5469   63.71 <2e-16 ***\n",
       "Residuals   322  27640      86                   \n",
       "---\n",
       "Signif. codes:  0 '***' 0.001 '**' 0.01 '*' 0.05 '.' 0.1 ' ' 1"
      ]
     },
     "metadata": {},
     "output_type": "display_data"
    }
   ],
   "source": [
    "AOV <- aov(overtime ~ section, data=DF)\n",
    "summary(AOV)"
   ]
  },
  {
   "cell_type": "code",
   "execution_count": 7,
   "id": "e2b07ea5",
   "metadata": {},
   "outputs": [
    {
     "data": {
      "text/plain": [
       "  Tukey multiple comparisons of means\n",
       "    95% family-wise confidence level\n",
       "\n",
       "Fit: aov(formula = overtime ~ section, data = DF)\n",
       "\n",
       "$section\n",
       "                 diff       lwr       upr     p adj\n",
       "IT-Admin    13.090083 10.144304 16.035861 0.0000000\n",
       "Sales-Admin 11.774762  8.727184 14.822340 0.0000000\n",
       "Sales-IT    -1.315321 -4.237938  1.607297 0.5398451\n"
      ]
     },
     "metadata": {},
     "output_type": "display_data"
    }
   ],
   "source": [
    "TukeyHSD(AOV)"
   ]
  },
  {
   "cell_type": "code",
   "execution_count": null,
   "id": "922f7ae5",
   "metadata": {},
   "outputs": [],
   "source": []
  }
 ],
 "metadata": {
  "kernelspec": {
   "display_name": "R",
   "language": "R",
   "name": "ir"
  },
  "language_info": {
   "codemirror_mode": "r",
   "file_extension": ".r",
   "mimetype": "text/x-r-source",
   "name": "R",
   "pygments_lexer": "r",
   "version": "3.6.1"
  }
 },
 "nbformat": 4,
 "nbformat_minor": 5
}
